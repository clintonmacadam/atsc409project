{
 "cells": [
  {
   "cell_type": "code",
   "execution_count": 1,
   "id": "c8a494f1",
   "metadata": {},
   "outputs": [],
   "source": [
    "import numpy as np\n",
    "import matplotlib.pyplot as plt\n",
    "from math import pi\n",
    "from math import sin\n",
    "from math import cos"
   ]
  },
  {
   "cell_type": "code",
   "execution_count": 2,
   "id": "a9679b97",
   "metadata": {},
   "outputs": [
    {
     "name": "stdout",
     "output_type": "stream",
     "text": [
      "[0.00760336 0.02257906 0.0368687  0.05003811 0.06168713 0.07146182\n",
      " 0.07906518 0.08426619 0.0869068  0.0869068  0.08426619 0.07906518\n",
      " 0.07146182 0.06168713 0.05003811 0.0368687  0.02257906 0.00760336]\n"
     ]
    }
   ],
   "source": [
    "#setup geometry\n",
    "\n",
    "#assume the earth is a sphere, not an oblate spheroid\n",
    "\n",
    "num_lat_zones = 18\n",
    "zonal_width = 90/num_lat_zones\n",
    "lats = np.linspace(-85,85,18)\n",
    "lats_rad = lats*(pi/180)\n",
    "delta_rad = (pi/2)/num_lat_zones/2\n",
    "lats_frac=np.zeros(18)\n",
    "\n",
    "for i in range(18):\n",
    "    lats_frac[i] = sin(lats_rad[i]+delta_rad) - sin(lats_rad[i]-delta_rad)\n",
    "\n",
    "print(lats_frac)\n",
    "\n",
    "#geometry successfully setup"
   ]
  },
  {
   "cell_type": "code",
   "execution_count": 3,
   "id": "89afa433",
   "metadata": {},
   "outputs": [],
   "source": [
    "#setup insolation\n",
    "#constants needed for insolation setup\n",
    "\n",
    "solar_constant=1370\n",
    "max_tilt=23.5\n",
    "days_in_year=365\n",
    "hours_in_day=24\n",
    "zonal_degrees=360\n",
    "total_solar=0.0"
   ]
  },
  {
   "cell_type": "code",
   "execution_count": 4,
   "id": "aea852aa",
   "metadata": {},
   "outputs": [
    {
     "name": "stdout",
     "output_type": "stream",
     "text": [
      "436.0734741032062\n"
     ]
    }
   ],
   "source": [
    "#calculate effective solar constant (considering sun angle and day/night cycle)\n",
    "\n",
    "for hour in range(hours_in_day):\n",
    "    noon_angle=zonal_degrees*(hour/hours_in_day)\n",
    "    for longitude in range(zonal_degrees):\n",
    "        sun_angle=longitude-noon_angle\n",
    "        total_solar=total_solar+solar_constant*max(0,cos((pi/180)*sun_angle))\n",
    "\n",
    "solar_constant=total_solar/(hours_in_day*zonal_degrees)\n",
    "print(solar_constant)\n",
    "#solar constant reasonable"
   ]
  },
  {
   "cell_type": "code",
   "execution_count": 5,
   "id": "62c4c9a0",
   "metadata": {},
   "outputs": [
    {
     "name": "stdout",
     "output_type": "stream",
     "text": [
      "[ 31.09533615  91.16405345 148.49321056 201.34089005 248.10134192\n",
      " 287.3537735  317.90551952 338.82828064 349.48632935 349.55582623\n",
      " 339.03465966 318.24250995 287.81113606 248.66517987 201.99407147\n",
      " 149.21588887 101.75002582  64.08835228]\n"
     ]
    }
   ],
   "source": [
    "#compute average insolation for each latitude band\n",
    "\n",
    "insolation=np.zeros(num_lat_zones)\n",
    "\n",
    "for day in range(days_in_year):\n",
    "    tilt=max_tilt*cos(2.0*pi*day/(days_in_year+1))\n",
    "    for j in range(num_lat_zones):\n",
    "        zenith=min(lats[j]+tilt,90.0)\n",
    "        insolation[j]=insolation[j]+cos(zenith*pi/180)\n",
    "\n",
    "insol=solar_constant*insolation/days_in_year\n",
    "insolation=insolation\n",
    "\n",
    "avg_insolation=(sum(lats_frac,insolation))\n",
    "print(avg_insolation)\n",
    "\n",
    "#insolation values for each latitude band are again reasonable"
   ]
  },
  {
   "cell_type": "code",
   "execution_count": 6,
   "id": "fa29cc29",
   "metadata": {},
   "outputs": [],
   "source": [
    "#set up parameters for solve_temp\n",
    "\n",
    "\n",
    "albedo_ice=0.60\n",
    "albedo_land=0.30\n",
    "temp_critical=-10"
   ]
  },
  {
   "cell_type": "code",
   "execution_count": 7,
   "id": "1a772cf6",
   "metadata": {},
   "outputs": [
    {
     "data": {
      "text/plain": [
       "Text(0.5, 1.0, 'Steady State Solution')"
      ]
     },
     "execution_count": 7,
     "metadata": {},
     "output_type": "execute_result"
    },
    {
     "data": {
      "image/png": "[encoded data removed]",
      "text/plain": [
       "<Figure size 432x288 with 1 Axes>"
      ]
     },
     "metadata": {
      "needs_background": "light"
     },
     "output_type": "display_data"
    }
   ],
   "source": [
    "def solve_temp(solar_mult):\n",
    "    insol=343\n",
    "    insolation=np.array([343*0.500,343*0.531,343*0.624,343*0.770,343*0.892,343*1.021,343*1.120,343*1.189,343*1.219,343*1.219,\n",
    "                        343*1.189,343*1.120,343*1.021,343*0.892,343*0.770,343*0.624,343*0.531,343*0.500])\n",
    "    step_num = 1                 \n",
    "    max_temp_diff = 1.0E6       \n",
    "    tol_temp_diff = 0.05         \n",
    "    max_steps = 100              \n",
    "    F=3.8\n",
    "    A=204\n",
    "    B=2.17\n",
    "    Ce=2.08e8\n",
    "    #temp=np.array([-16.9,-12.3,-5.1,2.2,8.8,16.2,22.9,26.1,26.4,26.1,24.6,21.4,16.5,9.9,2.9,-6.9,-29.5,-42.3])\n",
    "    temp_avg=14\n",
    "    temp=np.zeros(18)\n",
    "    albedo=np.array([0.589,0.544,0.452,0.407,0.357,0.309,0.272,0.248,0.254,0.241,0.236,0.251,0.296,0.358,0.426,0.513,0.602,0.617])\n",
    "    while step_num < max_steps:\n",
    "        insolation=np.array([343*0.500,343*0.531,343*0.624,343*0.770,343*0.892,343*1.021,343*1.120,343*1.189,343*1.219,343*1.219,\n",
    "                        343*1.189,343*1.120,343*1.021,343*0.892,343*0.770,343*0.624,343*0.531,343*0.500])\n",
    "        albedo=2*np.array([0.589,0.544,0.452,0.407,0.357,0.309,0.272,0.248,0.254,0.241,0.236,0.251,0.296,0.358,0.426,0.513,0.602,0.617])\n",
    "        temp_avg=14\n",
    "        temp_old=temp\n",
    "        step_num=step_num+1\n",
    "        temp_avg=sum(lats_frac,temp)\n",
    "        temp=(insolation*(1-albedo)+F*temp_avg-A)/(B+F)\n",
    "        max_temp_diff=max(abs(temp_old-temp))\n",
    "    return temp\n",
    "\n",
    "temptest=solve_temp(1)\n",
    "plt.plot(lats,solve_temp(1))\n",
    "plt.xlabel('Latitude')\n",
    "plt.ylabel('Temperature deg C')\n",
    "plt.title('Steady State Solution')"
   ]
  },
  {
   "cell_type": "code",
   "execution_count": 8,
   "id": "28c68aef",
   "metadata": {},
   "outputs": [
    {
     "name": "stdout",
     "output_type": "stream",
     "text": [
      "[3.4292128  2.3379456  1.6057112  1.11438587 0.78470924 0.56349799\n",
      " 0.41506644 0.31546968 0.24864078 0.20379896 0.17371033 0.15352103\n",
      " 0.13997412 0.13088421 0.12478493 0.12069235 0.11794625 0.11610363\n",
      " 0.11486724 0.11403764 0.11348097 0.11310745 0.11285683 0.11268866\n",
      " 0.11257581 0.1125001  0.11244929 0.1124152  0.11239233 0.11237698\n",
      " 0.11236668 0.11235977 0.11235513 0.11235202 0.11234994 0.11234853\n",
      " 0.1123476  0.11234696 0.11234654 0.11234626 0.11234607 0.11234594\n",
      " 0.11234585 0.1123458  0.11234576 0.11234573 0.11234571 0.1123457\n",
      " 0.11234569 0.11234569 0.11234569 0.11234568 0.11234568 0.11234568\n",
      " 0.11234568 0.11234568 0.11234568 0.11234568 0.11234568 0.11234568\n",
      " 0.11234568 0.11234568 0.11234568 0.11234568 0.11234568 0.11234568\n",
      " 0.11234568 0.11234568 0.11234568 0.11234568 0.11234568 0.11234568\n",
      " 0.11234568 0.11234568 0.11234568 0.11234568 0.11234568 0.11234568\n",
      " 0.11234568 0.11234568]\n"
     ]
    }
   ],
   "source": [
    "#now, set up simple differential equation\n",
    "tempavg=15\n",
    "albedo=np.array([0.589,0.544,0.452,0.407,0.357,0.309,0.272,0.248,0.254,0.241,0.236,0.251,0.296,0.358,0.426,0.513,0.602,0.617])\n",
    "insol=np.array([343*0.500,343*0.531,343*0.624,343*0.770,343*0.892,343*1.021,343*1.120,343*1.189,343*1.219,343*1.219,\n",
    "                    343*1.189,343*1.120,343*1.021,343*0.892,343*0.770,343*0.624,343*0.531,343*0.500])\n",
    "insolation=insol*(31536000**3)\n",
    "temp=np.array([-16.9,-12.3,-5.1,2.2,8.8,16.2,22.9,26.1,26.4,26.1,24.6,21.4,16.5,9.9,2.9,-6.9,-29.5,-42.3])\n",
    "F=3.80*(31536000**2)\n",
    "A=204*(31536000**3)\n",
    "B=2.17*(31536000**3)\n",
    "Ce=2.08e8*(31536000**2)\n",
    "time=np.linspace(2020,2038,18)\n",
    "temptime=np.zeros(100)\n",
    "tchange=np.zeros(18)\n",
    "time=np.linspace(2020,2038,18)\n",
    "temp=np.array([-16.9,-12.3,-5.1,2.2,8.8,16.2,22.9,26.1,26.4,26.1,24.6,21.4,16.5,9.9,2.9,-6.9,-29.5,-42.3])\n",
    "tc=np.zeros(18)\n",
    "\n",
    "for i in range(9):\n",
    "    tc = ((1.01*insolation[0:18]*(1 - albedo[0:18])) - (A + B*temp[0:18]+F*(temp[0:18]-tempavg)))/(Ce)\n",
    "    temp=temp+tc    \n",
    "    tempavg=sum(temp)/len(temp)\n",
    "    \n",
    "\n",
    "def solve_temp_ode(x,y):\n",
    "    time=np.linspace(1,18,18)\n",
    "    temp=np.array([-16.9,-12.3,-5.1,2.2,8.8,16.2,22.9,26.1,26.4,26.1,24.6,21.4,16.5,9.9,2.9,-6.9,-29.5,-42.3])\n",
    "    i=0\n",
    "    tempavg=np.zeros(80)\n",
    "    for i in range(80):\n",
    "        tc = ((1.045*insolation[0:18]*(1 - albedo[0:18])) - (A + B*temp[0:18]+F*(temp[0:18]-tempavg[i])))/(Ce)\n",
    "        temp=temp+tc\n",
    "        tempavg[i]=sum(temp)/len(temp)\n",
    "    return tempavg\n",
    "\n",
    "test=solve_temp_ode(time,temp)\n",
    "print(test)"
   ]
  },
  {
   "cell_type": "code",
   "execution_count": 9,
   "id": "748ccf24",
   "metadata": {},
   "outputs": [],
   "source": [
    "# Runge-Kutta 4th order\n",
    "def rk4(f, x0, y0, x1, n):\n",
    "    h = (x1 - x0) / n\n",
    "    x = np.arange(x0, x1, h)\n",
    "    y = np.zeros((n + 1))\n",
    "    y[0] = y0\n",
    "    for i in range(80):\n",
    "        k1 = h * f(x[i],y[i])\n",
    "        k2 = h * f(x[i] + h / 2, y[i] + k1 / 2)\n",
    "        k3 = h * f(x[i] + h / 2, y[i] + k2 / 2)\n",
    "        k4 = h * f(x[i] + h, y[i] + k3)    \n",
    "        y[i+1] = y[i] + ((k1 + 2 * k2 + 2 * k3 + k4) / 6)[i]          \n",
    "    return x, y"
   ]
  },
  {
   "cell_type": "code",
   "execution_count": 10,
   "id": "5b37f5b7",
   "metadata": {},
   "outputs": [
    {
     "name": "stdout",
     "output_type": "stream",
     "text": [
      "(array([2020., 2021., 2022., 2023., 2024., 2025., 2026., 2027., 2028.,\n",
      "       2029., 2030., 2031., 2032., 2033., 2034., 2035., 2036., 2037.,\n",
      "       2038., 2039., 2040., 2041., 2042., 2043., 2044., 2045., 2046.,\n",
      "       2047., 2048., 2049., 2050., 2051., 2052., 2053., 2054., 2055.,\n",
      "       2056., 2057., 2058., 2059., 2060., 2061., 2062., 2063., 2064.,\n",
      "       2065., 2066., 2067., 2068., 2069., 2070., 2071., 2072., 2073.,\n",
      "       2074., 2075., 2076., 2077., 2078., 2079., 2080., 2081., 2082.,\n",
      "       2083., 2084., 2085., 2086., 2087., 2088., 2089., 2090., 2091.,\n",
      "       2092., 2093., 2094., 2095., 2096., 2097., 2098., 2099.]), array([14.        , 17.4292128 , 19.76715839, 21.37286959, 22.48725546,\n",
      "       23.2719647 , 23.83546269, 24.25052914, 24.56599881, 24.81463959,\n",
      "       25.01843855, 25.19214889, 25.34566992, 25.48564403, 25.61652825,\n",
      "       25.74131318, 25.86200553, 25.97995178, 26.09605541, 26.21092266,\n",
      "       26.32496029, 26.43844127, 26.55154872, 26.66440555, 26.7770942 ,\n",
      "       26.88967002, 27.00217012, 27.11461941, 27.22703461, 27.33942694,\n",
      "       27.45180392, 27.5641706 , 27.67653038, 27.78888551, 27.90123753,\n",
      "       28.01358747, 28.125936  , 28.2382836 , 28.35063056, 28.4629771 ,\n",
      "       28.57532336, 28.68766943, 28.80001537, 28.91236122, 29.02470702,\n",
      "       29.13705277, 29.2493985 , 29.36174422, 29.47408992, 29.58643561,\n",
      "       29.6987813 , 29.81112699, 29.92347267, 30.03581835, 30.14816403,\n",
      "       30.26050971, 30.37285539, 30.48520107, 30.59754675, 30.70989243,\n",
      "       30.8222381 , 30.93458378, 31.04692946, 31.15927514, 31.27162082,\n",
      "       31.3839665 , 31.49631217, 31.60865785, 31.72100353, 31.83334921,\n",
      "       31.94569489, 32.05804056, 32.17038624, 32.28273192, 32.3950776 ,\n",
      "       32.50742328, 32.61976895, 32.73211463, 32.84446031, 32.95680599,\n",
      "       33.06915167]))\n"
     ]
    }
   ],
   "source": [
    "time=np.linspace(2020,2100,80)\n",
    "temp_rk4=rk4((solve_temp_ode),2020,14,2100,80)\n",
    "print(temp_rk4)\n",
    "time1=temp_rk4[0]\n",
    "temp1=temp_rk4[1]\n",
    "temp2=temp1[0:80]\n"
   ]
  },
  {
   "cell_type": "code",
   "execution_count": 11,
   "id": "9e89815d",
   "metadata": {},
   "outputs": [
    {
     "data": {
      "text/plain": [
       "Text(0, 0.5, 'Temperature (C)')"
      ]
     },
     "execution_count": 11,
     "metadata": {},
     "output_type": "execute_result"
    },
    {
     "data": {
      "image/png": "[encoded data removed]",
      "text/plain": [
       "<Figure size 432x288 with 1 Axes>"
      ]
     },
     "metadata": {
      "needs_background": "light"
     },
     "output_type": "display_data"
    }
   ],
   "source": [
    "plt.plot(time1,temp2)\n",
    "plt.title('Runge-Kutta Solution to ODE- Average Global Temperature')\n",
    "plt.xlabel('Year')\n",
    "plt.ylabel('Temperature (C)')"
   ]
  },
  {
   "cell_type": "code",
   "execution_count": 12,
   "id": "bfec0af8",
   "metadata": {},
   "outputs": [],
   "source": [
    "temp=np.zeros(num_lat_zones)\n",
    "temp_avg=np.zeros(num_lat_zones)\n",
    "for j in range(num_lat_zones):\n",
    "    temp[j]=-60.0\n",
    "\n",
    "solar_mult=np.zeros(140)\n",
    "#for k in range(140):\n",
    "#    solar_mult[k]=k/100\n",
    "#    temp_avg=solve_temp(solar_mult);\n",
    "#    k=k+1\n",
    "    \n",
    "#plt.plot(solve_temp(2))\n",
    "#plt.plot(solar_mult,temp_avg)\n",
    "#plt.title('Average Temperature versus Solar Multiplier')\n",
    "#xlabel('Solar Multiplier')\n",
    "#ylabel('Average Temperature')\n"
   ]
  },
  {
   "cell_type": "code",
   "execution_count": 13,
   "id": "c020f9d5",
   "metadata": {},
   "outputs": [],
   "source": [
    "#for k in range(60:140):\n",
    "#    solar_mult[k]=k/100;\n",
    "#    temp_avg[k]=solve_temp(solar_mult[k])\n",
    "    \n",
    "#plt.plot(solar_mult,temp_avg)\n",
    "#plt.title('Average Temperature versus Solar Multiplier')\n",
    "#xlabel('Solar Multiplier')\n",
    "#ylabel('Average Temperature')"
   ]
  },
  {
   "cell_type": "code",
   "execution_count": null,
   "id": "6c281f2c",
   "metadata": {},
   "outputs": [],
   "source": []
  },
  {
   "cell_type": "markdown",
   "id": "2ac368ca",
   "metadata": {},
   "source": [
    "# "
   ]
  }
 ],
 "metadata": {
  "kernelspec": {
   "display_name": "Python 3 (ipykernel)",
   "language": "python",
   "name": "python3"
  },
  "language_info": {
   "codemirror_mode": {
    "name": "ipython",
    "version": 3
   },
   "file_extension": ".py",
   "mimetype": "text/x-python",
   "name": "python",
   "nbconvert_exporter": "python",
   "pygments_lexer": "ipython3",
   "version": "3.9.7"
  }
 },
 "nbformat": 4,
 "nbformat_minor": 5
}
