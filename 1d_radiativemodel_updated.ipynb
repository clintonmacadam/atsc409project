{
 "cells": [
  {
   "cell_type": "code",
   "execution_count": 2,
   "id": "c8a494f1",
   "metadata": {},
   "outputs": [],
   "source": [
    "import numpy as np\n",
    "import matplotlib.pyplot as plt"
   ]
  },
  {
   "cell_type": "code",
   "execution_count": 3,
   "id": "a9679b97",
   "metadata": {},
   "outputs": [
    {
     "name": "stdout",
     "output_type": "stream",
     "text": [
      "[-1.48352986 -1.30899694 -1.13446401 -0.95993109 -0.78539816 -0.61086524\n",
      " -0.43633231 -0.26179939 -0.08726646  0.08726646  0.26179939  0.43633231\n",
      "  0.61086524  0.78539816  0.95993109  1.13446401  1.30899694  1.48352986]\n",
      "[0.00760336 0.02257906 0.0368687  0.05003811 0.06168713 0.07146182\n",
      " 0.07906518 0.08426619 0.0869068  0.0869068  0.08426619 0.07906518\n",
      " 0.07146182 0.06168713 0.05003811 0.0368687  0.02257906 0.00760336]\n"
     ]
    }
   ],
   "source": [
    "num_lat_zones = 18\n",
    "zonal_width = 90/num_lat_zones\n",
    "lats = np.linspace(-85, 85, 18)\n",
    "\n",
    "\n",
    "lats_rad = lats*(np.pi/180)\n",
    "delta_rad = (np.pi/2)/num_lat_zones/2\n",
    "print(lats_rad)\n",
    "i = 0\n",
    "lats_frac = np.zeros(18)\n",
    "\n",
    "for i in range(18):\n",
    "    lats_frac[i] = np.sin(lats_rad[i]+delta_rad) - np.sin(lats_rad[i]-delta_rad)\n",
    "\n",
    "print(lats_frac)\n"
   ]
  },
  {
   "cell_type": "code",
   "execution_count": 4,
   "id": "89afa433",
   "metadata": {},
   "outputs": [],
   "source": [
    "solar_constant = 1370\n",
    "max_tilt = 23.5\n",
    "days_in_year = 365\n",
    "hours_in_day = 24\n",
    "zonal_degrees = 360\n"
   ]
  },
  {
   "cell_type": "code",
   "execution_count": 5,
   "id": "aea852aa",
   "metadata": {},
   "outputs": [],
   "source": [
    "total_solar = 0.0\n",
    "\n",
    "for hour in range(hours_in_day):\n",
    "    noon_angle = zonal_degrees*(hour/hours_in_day)\n",
    "    for longitude in range(zonal_degrees):\n",
    "        sun_angle = longitude-noon_angle\n",
    "        total_solar = total_solar+solar_constant * \\\n",
    "            max(0, np.cos((np.pi/180)*sun_angle))\n",
    "\n",
    "\n",
    "solar_constant = total_solar/(hours_in_day*zonal_degrees)\n"
   ]
  },
  {
   "cell_type": "code",
   "execution_count": 6,
   "id": "cb989338",
   "metadata": {},
   "outputs": [
    {
     "name": "stdout",
     "output_type": "stream",
     "text": [
      "436.0734741032062\n"
     ]
    }
   ],
   "source": [
    "print(solar_constant)\n"
   ]
  },
  {
   "cell_type": "code",
   "execution_count": 7,
   "id": "62c4c9a0",
   "metadata": {},
   "outputs": [
    {
     "name": "stdout",
     "output_type": "stream",
     "text": [
      "[ 37.4255851  109.16810591 177.6240225  240.7133365  296.51911101\n",
      " 343.34571582 379.77034823 404.68626423 417.33640631 417.33640631\n",
      " 404.68626423 379.77034823 343.34571582 296.51911101 240.7133365\n",
      " 177.6240225  121.03847866  76.16816158]\n"
     ]
    }
   ],
   "source": [
    "insolation = np.zeros(num_lat_zones)\n",
    "\n",
    "for day in range(days_in_year):\n",
    "    tilt = max_tilt*cos(2.0*pi*day/days_in_year)\n",
    "    for j in range(num_lat_zones):\n",
    "        zenith = min(lats[j]+tilt, 90.0)\n",
    "        insolation[j] = insolation[j]+cos(zenith*pi/180)\n",
    "\n",
    "insolation = solar_constant*insolation/days_in_year\n",
    "f_result = insolation\n",
    "\n",
    "avg_insolation = sum(lats_frac, insolation)\n",
    "print(avg_insolation)\n"
   ]
  },
  {
   "cell_type": "code",
   "execution_count": 8,
   "id": "fa29cc29",
   "metadata": {},
   "outputs": [],
   "source": [
    "F = 3.80\n",
    "A = 204\n",
    "B = 2.17\n",
    "albedo_ice = 0.60\n",
    "albedo_land = 0.30\n",
    "temp_critical = -10\n"
   ]
  },
  {
   "cell_type": "code",
   "execution_count": 9,
   "id": "1a772cf6",
   "metadata": {},
   "outputs": [
    {
     "data": {
      "text/plain": [
       "[<matplotlib.lines.Line2D at 0x2a13542ac80>]"
      ]
     },
     "execution_count": 9,
     "metadata": {},
     "output_type": "execute_result"
    },
    {
     "data": {
      "image/png": "[encoded data removed]",
      "text/plain": [
       "<Figure size 432x288 with 1 Axes>"
      ]
     },
     "metadata": {
      "needs_background": "light"
     },
     "output_type": "display_data"
    }
   ],
   "source": [
    "def solve_temp(solar_mult):\n",
    "    step_num = 1\n",
    "    max_temp_diff = 1.0E6\n",
    "    tol_temp_diff = 0.05\n",
    "    max_steps = 100\n",
    "    temp = np.zeros(num_lat_zones)\n",
    "    albedo = np.zeros(num_lat_zones)\n",
    "    while step_num < max_steps:\n",
    "        temp_old = temp\n",
    "        step_num = step_num+1\n",
    "    for j in range(num_lat_zones):\n",
    "        if temp_old[j] > temp_critical:\n",
    "            albedo[j] = albedo_land\n",
    "        else:\n",
    "            albedo[j] = albedo_ice\n",
    "\n",
    "    temp_avg = sum(lats_frac, temp)\n",
    "    temp = (solar_mult*insolation*(1-albedo)+F*temp_avg - A)/(B+F)\n",
    "    max_temp_diff = max(abs(temp_old-temp))\n",
    "    return temp\n",
    "\n",
    "\n",
    "plt.plot(lats, solve_temp(1.2))\n"
   ]
  },
  {
   "cell_type": "code",
   "execution_count": 10,
   "id": "bfec0af8",
   "metadata": {},
   "outputs": [],
   "source": [
    "temp = np.zeros(num_lat_zones)\n",
    "temp_avg = np.zeros(num_lat_zones)\n",
    "for j in range(num_lat_zones):\n",
    "    temp[j] = -60.0\n",
    "\n",
    "solar_mult = np.zeros(140)\n",
    "# for k in range(140):\n",
    "#    solar_mult[k]=k/100\n",
    "#    temp_avg=solve_temp(solar_mult);\n",
    "#    k=k+1\n",
    "\n",
    "# plt.plot(solve_temp(2))\n",
    "# plt.plot(solar_mult,temp_avg)\n",
    "#plt.title('Average Temperature versus Solar Multiplier')\n",
    "#xlabel('Solar Multiplier')\n",
    "#ylabel('Average Temperature')\n"
   ]
  },
  {
   "cell_type": "code",
   "execution_count": 10,
   "id": "c020f9d5",
   "metadata": {},
   "outputs": [],
   "source": [
    "# for k in range(60:140):\n",
    "#    solar_mult[k]=k/100;\n",
    "#    temp_avg[k]=solve_temp(solar_mult[k])\n",
    "\n",
    "# plt.plot(solar_mult,temp_avg)\n",
    "#plt.title('Average Temperature versus Solar Multiplier')\n",
    "#xlabel('Solar Multiplier')\n",
    "#ylabel('Average Temperature')\n"
   ]
  }
 ],
 "metadata": {
  "kernelspec": {
   "display_name": "Python 3 (ipykernel)",
   "language": "python",
   "name": "python3"
  },
  "language_info": {
   "codemirror_mode": {
    "name": "ipython",
    "version": 3
   },
   "file_extension": ".py",
   "mimetype": "text/x-python",
   "name": "python",
   "nbconvert_exporter": "python",
   "pygments_lexer": "ipython3",
   "version": "3.10.2"
  }
 },
 "nbformat": 4,
 "nbformat_minor": 5
}
