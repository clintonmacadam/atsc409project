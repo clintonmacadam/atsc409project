{
 "cells": [
  {
   "cell_type": "markdown",
   "metadata": {},
   "source": [
    "<h1 style=\"text-align: center;\">\n",
    "    ATSC 409 Project: 1D Radiative Model\n",
    "</h1>\n",
    "<h5 style=\"text-align: center;\">\n",
    "    Anirudh Duggal, Clinton Macadam, and Hanrui Duan\n",
    "</h5>\n",
    "<!-- # ATSC 409 Project: 1D Radiative Model\n",
    "##### Anirudh Duggal, Clinton Macadam, and Hanrui Duan -->"
   ]
  },
  {
   "cell_type": "code",
   "execution_count": 1,
   "metadata": {},
   "outputs": [],
   "source": [
    "import numpy as np\n",
    "import matplotlib.pyplot as plt"
   ]
  },
  {
   "cell_type": "code",
   "execution_count": 4,
   "metadata": {},
   "outputs": [],
   "source": [
    "# Runge-Kutta 4th order\n",
    "def rk4(f, x0, y0, x1, n):\n",
    "    h = (x1 - x0) / n\n",
    "    x = np.arange(x0, x1, n)\n",
    "    y = np.zeros((n + 1))\n",
    "    y[0] = y0\n",
    "    for i in range(n):\n",
    "        k1 = h * f(x[i], y[i])\n",
    "        k2 = h * f(x[i] + h / 2, y[i] + k1 / 2)\n",
    "        k3 = h * f(x[i] + h / 2, y[i] + k2 / 2)\n",
    "        k4 = h * f(x[i] + h, y[i] + k3)\n",
    "        y[i + 1] = y[i] + (k1 + 2 * k2 + 2 * k3 + k4) / 6\n",
    "    return x, y"
   ]
  },
  {
   "cell_type": "markdown",
   "metadata": {},
   "source": [
    "<h4 style=\"text-align: center;\">\n",
    "    Constants\n",
    "</h4>"
   ]
  },
  {
   "cell_type": "code",
   "execution_count": 5,
   "metadata": {},
   "outputs": [],
   "source": [
    "Ce = 2.08e-5  # J/m^2 * C\n",
    "F = 3.80      # W/(m^2 * C)\n",
    "A = 204       # W m^-2\n",
    "B = 2.17      # W m^-2 C^-1\n",
    "\n",
    "\n",
    "# Global Variables\n",
    "num_lat_zones = 0\n",
    "lats = 0\n",
    "lats_frac = 0\n",
    "insolation = 0\n",
    "albedo = 0\n",
    "temp = 0\n"
   ]
  },
  {
   "cell_type": "code",
   "execution_count": 7,
   "metadata": {},
   "outputs": [],
   "source": [
    "# Adapted from geometric_setup.m\n",
    "def geometry_setup():\n",
    "    num_lat_zones = 10\n",
    "    zonal_width = 90 / num_lat_zones\n",
    "\n",
    "    # midpoint of each zone\n",
    "    lats = np.array([0])\n",
    "    lats = np.append(lats, np.arange(zonal_width / 2, 90 - zonal_width / 2, zonal_width))\n",
    "\n",
    "    lats_rad = [lat * np.pi / 180 for lat in lats] \n",
    "    delta_rad = (np.pi / 2) / (num_lat_zones / 2)\n",
    "    lats_frac = np.array([(np.sin(lats_rad + delta_rad) - np.sin(lats_rad - delta_rad)) for lats_rad in lats_rad], dtype=np.float64)\n",
    "    \n",
    "    # for _ in range(len(lats_rad)):\n",
    "    #     lats_frac.append(np.sin(lats_rad + delta_rad) - np.sin(lats_rad - delta_rad))\n",
    "\n",
    "    return num_lat_zones, lats, lats_frac"
   ]
  },
  {
   "cell_type": "code",
   "execution_count": 8,
   "metadata": {},
   "outputs": [],
   "source": [
    "def insolation_setup(num_lat_zones, solar_constant = 1370, max_tilt = 23.5, days_in_year = 365, hours_in_day = 24, zonal_degrees = 360):\n",
    "    total_solar = 0.0\n",
    "\n",
    "    for hour in range(hours_in_day):\n",
    "        noon_angle = zonal_degrees * hour / hours_in_day\n",
    "        \n",
    "        for longitude in range(zonal_degrees):\n",
    "            sun_angle = longitude - noon_angle\n",
    "            total_solar = total_solar + solar_constant * max(0.0, np.cos(np.pi / 180 * sun_angle))\n",
    "    \n",
    "    solar_constant = total_solar / (hours_in_day * zonal_degrees)\n",
    "\n",
    "    insolation = np.zeros(num_lat_zones)\n",
    "\n",
    "    for day in range(days_in_year):\n",
    "        tilt = max_tilt * np.cos(2.0 * np.pi * day / days_in_year)\n",
    "\n",
    "        for j in range(num_lat_zones):\n",
    "            zenith = min(lats[j] + tilt, 90.0)\n",
    "            insolation[j] += np.cos(zenith * np.pi/180)\n",
    "\n",
    "    insolation = solar_constant * insolation / days_in_year\n",
    "    return insolation"
   ]
  },
  {
   "cell_type": "code",
   "execution_count": 9,
   "metadata": {},
   "outputs": [],
   "source": [
    "# Adapted from solve_temp.m\n",
    "\n",
    "# adjustable parameters\n",
    "F = 3.80                   # transport coefficient (in W/(m^2*degree C))\n",
    "A = 204                    # radiative-heat-loss coefficient\n",
    "B = 2.17                   # radiative-heat-loss coefficient\n",
    "albedo_ice = 0.60          # albedo of ice\n",
    "albedo_land = 0.30         # albedo of land\n",
    "temp_critical = -10        # critical temperature (all ice)\n",
    "\n",
    "step_num = 1                 # loop counter\n",
    "max_temp_diff = 1.0E6       # using large value insures loop executes once\n",
    "tol_temp_diff = 0.05         # max temp change before ending iteration\n",
    "max_steps = 100              # max steps during iteration before stopping"
   ]
  },
  {
   "cell_type": "code",
   "execution_count": 27,
   "metadata": {},
   "outputs": [],
   "source": [
    "def solveTemp(solar_mult, temp, num_lat_zones, lats_frac, albedo):\n",
    "    # adjustable parameters\n",
    "    F = 3.80                   # transport coefficient (in W/(m^2*degree C))\n",
    "    A = 204                    # radiative-heat-loss coefficient\n",
    "    B = 2.17                   # radiative-heat-loss coefficient\n",
    "    albedo_ice = 0.60          # albedo of ice\n",
    "    albedo_land = 0.30         # albedo of land\n",
    "    temp_critical = -10        # critical temperature (all ice)\n",
    "\n",
    "    step_num = 1                 # loop counter\n",
    "    max_temp_diff = 1.0E6        # using large value insures loop executes once\n",
    "    tol_temp_diff = 0.05         # max temp change before ending iteration\n",
    "    max_steps = 1000             # max steps during iteration before stopping\n",
    "\n",
    "    while max_temp_diff > tol_temp_diff and step_num < max_steps:\n",
    "        temp_old = temp\n",
    "        step_num += 1\n",
    "\n",
    "        # albedo is either land albedo (T > temp_critical) or ice (T < temp_critical)\n",
    "\n",
    "        for j in range(num_lat_zones):\n",
    "            if temp_old[j] > temp_critical:\n",
    "                albedo[j] = albedo_land\n",
    "            else:\n",
    "                albedo[j] = albedo_ice\n",
    "\n",
    "        temp_avg = sum(lats_frac * temp)\n",
    "        temp = (solar_mult * insolation * (1 - albedo) + F * temp_avg - A) / (B + F)\n",
    "        max_temp_diff = max(abs(temp - temp_old))\n",
    "\n",
    "    if step_num >= max_steps:\n",
    "        raise Exception('Too many iterations - Try different parameters')\n",
    "\n",
    "    return temp_avg\n"
   ]
  },
  {
   "cell_type": "code",
   "execution_count": 29,
   "metadata": {},
   "outputs": [
    {
     "name": "stderr",
     "output_type": "stream",
     "text": [
      "C:\\Users\\anisw\\AppData\\Local\\Temp\\ipykernel_39032\\2022059777.py:28: RuntimeWarning: overflow encountered in double_scalars\n",
      "  temp = (solar_mult * insolation * (1 - albedo) + F * temp_avg - A) / (B + F)\n",
      "C:\\Users\\anisw\\AppData\\Local\\Temp\\ipykernel_39032\\2022059777.py:29: RuntimeWarning: invalid value encountered in subtract\n",
      "  max_temp_diff = max(abs(temp - temp_old))\n"
     ]
    },
    {
     "data": {
      "image/png": "[encoded data removed]",
      "text/plain": [
       "<Figure size 432x288 with 1 Axes>"
      ]
     },
     "metadata": {
      "needs_background": "light"
     },
     "output_type": "display_data"
    }
   ],
   "source": [
    "# Adapted from one_dim_ebm.m\n",
    "num_lat_zones, lats, lats_frac = geometry_setup()\n",
    "insolation = insolation_setup(num_lat_zones)\n",
    "\n",
    "albedo = temp = np.zeros(num_lat_zones)\n",
    "\n",
    "for j in range(num_lat_zones):\n",
    "    temp[j] = -60.0\n",
    "\n",
    "\n",
    "solar_mult = np.zeros(80)\n",
    "avg_temp = np.zeros(80)\n",
    "\n",
    "for k in range(60, 140):\n",
    "    solar_mult[k - 60] = k / 100.0\n",
    "    avg_temp[k - 60] = solveTemp(solar_mult[k - 60], temp, num_lat_zones, lats_frac, albedo)\n",
    "\n",
    "plt.plot(solar_mult, avg_temp, 'b')\n",
    "plt.title('Average Temperature vs. Solar Multiplier')\n",
    "plt.xlabel('Solar Multiplier')\n",
    "plt.ylabel('Average Temperature (C)')\n",
    "plt.show()"
   ]
  },
  {
   "cell_type": "code",
   "execution_count": 11,
   "metadata": {},
   "outputs": [],
   "source": [
    "def rk4Ode(x, y):\n",
    "    avgTemp = np.average(temp)\n",
    "    PGain = [S * (1 - a) for S, a in zip(insolation, albedo)]\n",
    "    PLoss = [A + B * t + F * (t * avgTemp) for t in temp]\n",
    "    return (PGain - PLoss) / Ce"
   ]
  },
  {
   "cell_type": "code",
   "execution_count": 14,
   "metadata": {},
   "outputs": [
    {
     "ename": "TypeError",
     "evalue": "rk4Ode() takes 0 positional arguments but 2 were given",
     "output_type": "error",
     "traceback": [
      "\u001b[1;31m---------------------------------------------------------------------------\u001b[0m",
      "\u001b[1;31mTypeError\u001b[0m                                 Traceback (most recent call last)",
      "\u001b[1;32mc:\\Users\\anisw\\atsc409project\\1D Model.ipynb Cell 13'\u001b[0m in \u001b[0;36m<module>\u001b[1;34m\u001b[0m\n\u001b[1;32m----> <a href='vscode-notebook-cell:/c%3A/Users/anisw/atsc409project/1D%20Model.ipynb#ch0000012?line=0'>1</a>\u001b[0m rk4(rk4Ode, \u001b[39m2020\u001b[39;49m, \u001b[39m14\u001b[39;49m, \u001b[39m2038\u001b[39;49m, \u001b[39m1\u001b[39;49m)\n",
      "\u001b[1;32mc:\\Users\\anisw\\atsc409project\\1D Model.ipynb Cell 3'\u001b[0m in \u001b[0;36mrk4\u001b[1;34m(f, x0, y0, x1, n)\u001b[0m\n\u001b[0;32m      <a href='vscode-notebook-cell:/c%3A/Users/anisw/atsc409project/1D%20Model.ipynb#ch0000002?line=5'>6</a>\u001b[0m y[\u001b[39m0\u001b[39m] \u001b[39m=\u001b[39m y0\n\u001b[0;32m      <a href='vscode-notebook-cell:/c%3A/Users/anisw/atsc409project/1D%20Model.ipynb#ch0000002?line=6'>7</a>\u001b[0m \u001b[39mfor\u001b[39;00m i \u001b[39min\u001b[39;00m \u001b[39mrange\u001b[39m(n):\n\u001b[1;32m----> <a href='vscode-notebook-cell:/c%3A/Users/anisw/atsc409project/1D%20Model.ipynb#ch0000002?line=7'>8</a>\u001b[0m     k1 \u001b[39m=\u001b[39m h \u001b[39m*\u001b[39m f(x[i], y[i])\n\u001b[0;32m      <a href='vscode-notebook-cell:/c%3A/Users/anisw/atsc409project/1D%20Model.ipynb#ch0000002?line=8'>9</a>\u001b[0m     k2 \u001b[39m=\u001b[39m h \u001b[39m*\u001b[39m f(x[i] \u001b[39m+\u001b[39m h \u001b[39m/\u001b[39m \u001b[39m2\u001b[39m, y[i] \u001b[39m+\u001b[39m k1 \u001b[39m/\u001b[39m \u001b[39m2\u001b[39m)\n\u001b[0;32m     <a href='vscode-notebook-cell:/c%3A/Users/anisw/atsc409project/1D%20Model.ipynb#ch0000002?line=9'>10</a>\u001b[0m     k3 \u001b[39m=\u001b[39m h \u001b[39m*\u001b[39m f(x[i] \u001b[39m+\u001b[39m h \u001b[39m/\u001b[39m \u001b[39m2\u001b[39m, y[i] \u001b[39m+\u001b[39m k2 \u001b[39m/\u001b[39m \u001b[39m2\u001b[39m)\n",
      "\u001b[1;31mTypeError\u001b[0m: rk4Ode() takes 0 positional arguments but 2 were given"
     ]
    }
   ],
   "source": [
    "rk4(rk4Ode, 2020, 14, 2038, 1)"
   ]
  },
  {
   "cell_type": "code",
   "execution_count": null,
   "metadata": {},
   "outputs": [],
   "source": []
  }
 ],
 "metadata": {
  "interpreter": {
   "hash": "dbdd2e8d5006127634dae37b7b35b5846ce6e3a171ab4283aed3bbbf5cf50652"
  },
  "kernelspec": {
   "display_name": "Python 3.10.2 ('numeric_2022')",
   "language": "python",
   "name": "python3"
  },
  "language_info": {
   "codemirror_mode": {
    "name": "ipython",
    "version": 3
   },
   "file_extension": ".py",
   "mimetype": "text/x-python",
   "name": "python",
   "nbconvert_exporter": "python",
   "pygments_lexer": "ipython3",
   "version": "3.10.1"
  },
  "orig_nbformat": 4
 },
 "nbformat": 4,
 "nbformat_minor": 2
}
